{
 "cells": [
  {
   "cell_type": "markdown",
   "metadata": {},
   "source": [
    "# Testing package with Iris dataset"
   ]
  },
  {
   "cell_type": "markdown",
   "metadata": {},
   "source": [
    "## Importing packages"
   ]
  },
  {
   "cell_type": "code",
   "execution_count": 38,
   "metadata": {},
   "outputs": [],
   "source": [
    "# Import python_som\n",
    "# Import libraries for plotting results\n",
    "import matplotlib.pyplot as plt\n",
    "# Import NumPy and Pandas for storing data\n",
    "import numpy as np\n",
    "import seaborn as sns\n",
    "\n",
    "import python_som\n",
    "\n",
    "# Import timing tools\n",
    "import time"
   ]
  },
  {
   "cell_type": "markdown",
   "metadata": {},
   "source": [
    "## Loading dataset w/ Seaborn"
   ]
  },
  {
   "cell_type": "code",
   "execution_count": 39,
   "metadata": {},
   "outputs": [],
   "source": [
    "# Load Iris dataset and columns of features and labels\n",
    "iris = sns.load_dataset('iris')\n",
    "target = iris.iloc[:, -1].to_numpy()\n",
    "iris = iris.iloc[:, :-1].to_numpy()\n",
    "# Transform labels into numeric codes for plotting\n",
    "tg = np.zeros(len(target), dtype=int)\n",
    "tg[target == 'setosa'] = 0\n",
    "tg[target == 'versicolor'] = 1\n",
    "tg[target == 'virginica'] = 2"
   ]
  },
  {
   "cell_type": "markdown",
   "metadata": {},
   "source": [
    "## SOM Instantiation"
   ]
  },
  {
   "cell_type": "code",
   "execution_count": 40,
   "metadata": {},
   "outputs": [
    {
     "name": "stdout",
     "output_type": "stream",
     "text": [
      "Help on function __init__ in module python_som:\n",
      "\n",
      "__init__(self, x: Union[int, NoneType], y: Union[int, NoneType], input_len: int, learning_rate: float = 0.5, learning_rate_decay: Callable[[float, int, int], float] = <function _asymptotic_decay at 0x7f570781a830>, neighborhood_radius: float = 1.0, neighborhood_radius_decay: Callable[[float, int, int], float] = <function _asymptotic_decay at 0x7f570781a830>, neighborhood_function: str = 'gaussian', distance_function: Callable[[Union[float, numpy.ndarray], Union[float, numpy.ndarray]], Union[float, numpy.ndarray]] = <function _euclidean_distance at 0x7f57032067a0>, cyclic_x: bool = False, cyclic_y: bool = False, random_seed: Union[int, NoneType] = None, data: Union[numpy.ndarray, pandas.core.frame.DataFrame, list, NoneType] = None) -> None\n",
      "    Constructor for the self-organizing map class.\n",
      "    \n",
      "    :param x: int or NoneType: X dimension of the self-organizing map, i.e.,\n",
      "        number of rows of the matrix of weights.\n",
      "        x should be larger than 0.\n",
      "        If x is None and 'data' is provided in kwargs, its value will be automatically selected using PCA of 'data'.\n",
      "        Either x or y should be different than None.\n",
      "    :param y: int or NoneType: Y dimension of the self-organizing map, i.e.,\n",
      "        number of columns of the matrix of weights.\n",
      "        y should be larger than 0.\n",
      "        If y is None and 'data' is provided in kwargs, its value will be automatically selected using PCA of 'data'.\n",
      "        Either x or y should be different than None.\n",
      "    :param input_len: int: Number of features of the training dataset, i.e.,\n",
      "        number of elements of each node of the network.\n",
      "    :param learning_rate: float: Initial learning rate for the training process.\n",
      "        Should be a positive floating point value.\n",
      "        Defaults to 0.5.\n",
      "        Note: The value of the learning_rate is irrelevant for the 'batch' training mode.\n",
      "    :param learning_rate_decay: function: Decay function for the learning_rate variable.\n",
      "        May be a predefined one from this package, or a custom function, with the same parameters and return type.\n",
      "        Defaults to _asymptotic_decay.\n",
      "    :param neighborhood_radius: float: Initial neighborhood radius for the training process. Defaults to 1.\n",
      "    :param neighborhood_radius_decay: function: Decay function for the neighborhood_radius variable.\n",
      "        May be a predefined one from this package, or a custom function, with the same parameters and return type.\n",
      "        Defaults to _asymptotic_decay\n",
      "    :param neighborhood_function: str: Neighborhood function name for the training process.\n",
      "        May be either 'gaussian' or 'bubble'.\n",
      "    :param distance_function: function: Function for calculating distances/dissimilarities between models of the\n",
      "        network.\n",
      "        May be a predefined one from this package, or a custom function, with the same parameters and return type.\n",
      "        Defaults to _euclidean_distance.\n",
      "    :param cyclic_x: bool: Boolean value activate/deactivate cyclic arrays in the x direction, i.e,\n",
      "        between the first and last rows of the weight matrix.\n",
      "        Defaults to False.\n",
      "    :param cyclic_y: bool: Boolean value activate/deactivate cyclic arrays in the y direction, i.e,\n",
      "        between the first and last columns of the weight matrix.\n",
      "        Defaults to False.\n",
      "    :param random_seed: int or None: Seed for NumPy random value generator. Defaults to None.\n",
      "    :param data: array-like: dataset for performing PCA.\n",
      "        Required when either x or y is None, for determining map size.\n",
      "\n"
     ]
    }
   ],
   "source": [
    "help(python_som.SOM.__init__)"
   ]
  },
  {
   "cell_type": "code",
   "execution_count": 41,
   "metadata": {},
   "outputs": [],
   "source": [
    "# Instantiate SOM from  python_som\n",
    "# Selecting shape automatically (providing dataset for constructor)\n",
    "# Using default decay and distance functions\n",
    "# Using gaussian neighborhood function\n",
    "# Using cyclic arrays in the vertical and horizontal directions\n",
    "som = python_som.SOM(x=20, y=None, input_len=iris.shape[1], learning_rate=0.5, neighborhood_radius=1.0,\n",
    "                     neighborhood_function='gaussian', cyclic_x=True, cyclic_y=True, data=iris)"
   ]
  },
  {
   "cell_type": "code",
   "execution_count": 42,
   "metadata": {},
   "outputs": [],
   "source": [
    "# # Instantiate SOM from  python_som\n",
    "# # With fixed shape\n",
    "# # Using default decay and distance functions\n",
    "# # Using gaussian neighborhood function\n",
    "# # Not using cyclic arrays\n",
    "# som = python_som.SOM(x=8, y=8, input_len=iris.shape[1], learning_rate=0.5, neighborhood_radius=1.0,\n",
    "#                      neighborhood_function='gaussian', cyclic_x=False, cyclic_y=False)"
   ]
  },
  {
   "cell_type": "markdown",
   "metadata": {},
   "source": [
    "## Weight initialization"
   ]
  },
  {
   "cell_type": "code",
   "execution_count": 43,
   "metadata": {},
   "outputs": [
    {
     "name": "stdout",
     "output_type": "stream",
     "text": [
      "Help on method weight_initialization in module python_som:\n",
      "\n",
      "weight_initialization(mode: str = 'random', **kwargs: Union[numpy.ndarray, pandas.core.frame.DataFrame, list, str, int]) -> None method of python_som.SOM instance\n",
      "    Function for weight initialization of the self-organizing map. Calls other methods for each initialization mode.\n",
      "    \n",
      "    :param mode: str: Initialization mode. May be either 'random', 'linear', or 'sample'.\n",
      "        Note: Each initialization method may require multiple additional arguments in kwargs.\n",
      "    :param kwargs:\n",
      "        For 'random' initialization mode, 'sample_mode': str may be provided to determine the sampling mode.\n",
      "        'sample_mode' may be either 'standard_normal' (default) or 'uniform'.\n",
      "        For 'random' and 'sample' modes, 'random_seed': int may be provided for the random value generator.\n",
      "        For 'sample' and 'linear' modes, 'data': array-like must be provided for sampling/PCA.\n",
      "\n"
     ]
    }
   ],
   "source": [
    "help(som.weight_initialization)"
   ]
  },
  {
   "cell_type": "code",
   "execution_count": 44,
   "metadata": {},
   "outputs": [],
   "source": [
    "# # Initialize weights of the SOM with random initialization, from uniform distribution\n",
    "# som.weight_initialization(mode='random', sample_mode='uniform')"
   ]
  },
  {
   "cell_type": "code",
   "execution_count": 45,
   "metadata": {},
   "outputs": [],
   "source": [
    "# # Initialize weights of the SOM with sampling from dataset\n",
    "# som.weight_initialization(mode='sample', data=iris)"
   ]
  },
  {
   "cell_type": "code",
   "execution_count": 46,
   "metadata": {},
   "outputs": [],
   "source": [
    "# Initialize weights of the SOM with linear initialization\n",
    "som.weight_initialization(mode='linear', data=iris)"
   ]
  },
  {
   "cell_type": "markdown",
   "metadata": {},
   "source": [
    "## Training"
   ]
  },
  {
   "cell_type": "code",
   "execution_count": 47,
   "metadata": {},
   "outputs": [
    {
     "name": "stdout",
     "output_type": "stream",
     "text": [
      "Help on method train in module python_som:\n",
      "\n",
      "train(data: Union[numpy.ndarray, pandas.core.frame.DataFrame, list], n_iteration: Union[int, NoneType] = None, mode: str = 'random', verbose: bool = False) -> float method of python_som.SOM instance\n",
      "    Trains the self-organizing map, with the dataset 'data', and a certain number of iterations.\n",
      "    \n",
      "    :param data: array-like: Dataset for training.\n",
      "    :param n_iteration: int or None: Number of iterations of training.\n",
      "        If None, defaults to 1000 * len(data) for stepwise training modes,\n",
      "        or 10 * len(data) for batch training mode.\n",
      "    :param mode: str: Training mode name. May be either 'random', 'sequential', or 'batch'.\n",
      "        For 'batch' mode, a much smaller number of iterations is needed, but a higher computation power is required\n",
      "        for each individual iteration.\n",
      "    :param verbose: bool: Activate to print useful information to the terminal/console, e.g.,\n",
      "        the progress of the training process\n",
      "    :return: float: Quantization error after training\n",
      "\n"
     ]
    }
   ],
   "source": [
    "help(som.train)"
   ]
  },
  {
   "cell_type": "code",
   "execution_count": 48,
   "metadata": {},
   "outputs": [],
   "source": [
    "# # Training with stepwise algorithm, with random sampling from the dataset\n",
    "# t_start = time.time()\n",
    "# q_error = som.train(iris, 1000 * len(iris), mode='random', verbose=False)\n",
    "# t_end = time.time()\n",
    "# print(\"Quantization error:\", q_error)\n",
    "# print(\"Execution time:\", t_end-t_start, \"s\")"
   ]
  },
  {
   "cell_type": "code",
   "execution_count": 49,
   "metadata": {},
   "outputs": [],
   "source": [
    "# # Training with stepwise algorithm, with sequential sampling from the dataset\n",
    "# t_start = time.time()\n",
    "# q_error = som.train(iris, 1000 * len(iris), mode='sequential', verbose=False)\n",
    "# t_end = time.time()\n",
    "# print(\"Quantization error:\", q_error)\n",
    "# print(\"Execution time:\", t_end-t_start, \"s\")"
   ]
  },
  {
   "cell_type": "code",
   "execution_count": 50,
   "metadata": {},
   "outputs": [
    {
     "name": "stdout",
     "output_type": "stream",
     "text": [
      "Quantization error: 0.11333343581048994\n",
      "Execution time: 26.523814916610718 s\n"
     ]
    }
   ],
   "source": [
    "# Training with batch algorithm\n",
    "t_start = time.time()\n",
    "q_error = som.train(iris, len(iris), mode='batch', verbose=False)\n",
    "t_end = time.time()\n",
    "print(\"Quantization error:\", q_error)\n",
    "print(\"Execution time:\", t_end-t_start, \"s\")"
   ]
  },
  {
   "cell_type": "markdown",
   "metadata": {},
   "source": [
    "## Plotting U-matrix"
   ]
  },
  {
   "cell_type": "code",
   "execution_count": 51,
   "metadata": {},
   "outputs": [
    {
     "name": "stdout",
     "output_type": "stream",
     "text": [
      "Help on method distance_matrix in module python_som:\n",
      "\n",
      "distance_matrix() -> numpy.ndarray method of python_som.SOM instance\n",
      "    Calculates U-matrix of the current state of the network, i.e., the matrix of distances between each node and its\n",
      "    neighbors. Has support for cyclic arrays\n",
      "    \n",
      "    :return: np.ndarray: U-matrix of the current state of the network.\n",
      "\n"
     ]
    }
   ],
   "source": [
    "help(som.distance_matrix)"
   ]
  },
  {
   "cell_type": "code",
   "execution_count": 52,
   "metadata": {},
   "outputs": [
    {
     "data": {
      "image/png": "[encoded data removed]",
      "text/plain": [
       "<Figure size 1440x432 with 1 Axes>"
      ]
     },
     "metadata": {
      "needs_background": "light"
     },
     "output_type": "display_data"
    }
   ],
   "source": [
    "# Calculating distance matrix for plotting\n",
    "umatrix = som.distance_matrix().T\n",
    "\n",
    "# Plotting U-matrix with seaborn/matplotlib\n",
    "plt.figure(figsize=som.get_shape())\n",
    "plt.pcolor(umatrix, cmap='bone_r')\n",
    "\n",
    "markers = ['o', 's', 'D']\n",
    "colors = ['C0', 'C1', 'C2']\n",
    "for cnt, xx in enumerate(iris):\n",
    "    w = som.winner(xx)  # getting the winner\n",
    "    plt.plot(w[0] + .5, w[1] + .5, markers[tg[cnt]], markerfacecolor='None',\n",
    "             markeredgecolor=colors[tg[cnt]], markersize=12, markeredgewidth=2)\n",
    "plt.axis([0, som.get_shape()[0], 0, som.get_shape()[1]])\n",
    "plt.show()\n"
   ]
  }
 ],
 "metadata": {
  "kernelspec": {
   "display_name": "Python 3",
   "language": "python",
   "name": "python3"
  },
  "language_info": {
   "codemirror_mode": {
    "name": "ipython",
    "version": 3
   },
   "file_extension": ".py",
   "mimetype": "text/x-python",
   "name": "python",
   "nbconvert_exporter": "python",
   "pygments_lexer": "ipython3",
   "version": "3.7.6"
  }
 },
 "nbformat": 4,
 "nbformat_minor": 4
}
